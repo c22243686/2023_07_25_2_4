{
 "cells": [
  {
   "cell_type": "code",
   "execution_count": 1,
   "metadata": {},
   "outputs": [
    {
     "data": {
      "text/plain": [
       "([79, 92, 68, 75, 65], [78, 95, 68, 72, 65], [72, 91, 69, 71, 62])"
      ]
     },
     "execution_count": 1,
     "metadata": {},
     "output_type": "execute_result"
    }
   ],
   "source": [
    "#2維list\n",
    "students = [[79, 92, 68, 75, 65],\n",
    "            [78, 95, 68, 72, 65],\n",
    "            [72, 91, 69, 71, 62]]\n",
    "students[0] , students[1], students[2]"
   ]
  },
  {
   "cell_type": "code",
   "execution_count": 2,
   "metadata": {},
   "outputs": [
    {
     "name": "stdout",
     "output_type": "stream",
     "text": [
      "[79, 92, 68, 75, 65]\n",
      "[78, 95, 68, 72, 65]\n",
      "[72, 91, 69, 71, 62]\n"
     ]
    }
   ],
   "source": [
    "for student in students:\n",
    "    print(student)"
   ]
  },
  {
   "cell_type": "code",
   "execution_count": 3,
   "metadata": {},
   "outputs": [
    {
     "data": {
      "text/plain": [
       "[[76, 63, 86, 60, 89],\n",
       " [71, 71, 76, 70, 74],\n",
       " [93, 73, 97, 85, 65],\n",
       " [78, 87, 87, 74, 71],\n",
       " [76, 62, 82, 100, 95],\n",
       " [67, 99, 72, 76, 69],\n",
       " [96, 53, 83, 90, 64],\n",
       " [50, 50, 100, 60, 81],\n",
       " [76, 75, 94, 72, 50],\n",
       " [88, 59, 55, 67, 75],\n",
       " [54, 76, 56, 73, 82],\n",
       " [75, 79, 81, 63, 75],\n",
       " [63, 74, 57, 80, 88],\n",
       " [92, 71, 61, 90, 63],\n",
       " [95, 72, 95, 58, 71],\n",
       " [96, 78, 97, 98, 74],\n",
       " [81, 94, 100, 61, 64],\n",
       " [64, 100, 79, 94, 52],\n",
       " [57, 53, 63, 50, 85],\n",
       " [90, 73, 75, 70, 51],\n",
       " [59, 55, 64, 98, 78],\n",
       " [94, 60, 57, 85, 99],\n",
       " [94, 85, 65, 63, 57],\n",
       " [99, 78, 66, 74, 100],\n",
       " [96, 84, 74, 79, 62],\n",
       " [51, 69, 55, 92, 66],\n",
       " [84, 50, 61, 81, 71],\n",
       " [93, 87, 54, 93, 59],\n",
       " [72, 81, 53, 75, 99],\n",
       " [84, 89, 86, 51, 51],\n",
       " [90, 97, 52, 62, 98],\n",
       " [86, 78, 96, 95, 83],\n",
       " [98, 94, 83, 90, 67],\n",
       " [99, 69, 51, 57, 66],\n",
       " [76, 50, 82, 69, 94],\n",
       " [100, 77, 53, 90, 68],\n",
       " [52, 54, 90, 92, 55],\n",
       " [76, 66, 94, 78, 68],\n",
       " [55, 70, 84, 63, 62],\n",
       " [77, 53, 68, 97, 88],\n",
       " [62, 73, 58, 65, 100],\n",
       " [63, 80, 99, 82, 57],\n",
       " [69, 56, 66, 94, 98],\n",
       " [54, 81, 55, 50, 95],\n",
       " [60, 75, 88, 73, 56],\n",
       " [92, 76, 90, 81, 73],\n",
       " [56, 67, 75, 53, 72],\n",
       " [57, 99, 87, 100, 87],\n",
       " [74, 81, 71, 86, 94],\n",
       " [79, 52, 74, 86, 78]]"
      ]
     },
     "execution_count": 3,
     "metadata": {},
     "output_type": "execute_result"
    }
   ],
   "source": [
    "import random\n",
    "def get_score() -> list:\n",
    "    score = []\n",
    "    for i in range(5):\n",
    "        score.append(random.randint(50, 100))\n",
    "    return score\n",
    "\n",
    "students = []\n",
    "for i in range(50):\n",
    "    scores = get_score()\n",
    "    students.append(scores)\n",
    "students"
   ]
  }
 ],
 "metadata": {
  "kernelspec": {
   "display_name": "Python 3",
   "language": "python",
   "name": "python3"
  },
  "language_info": {
   "codemirror_mode": {
    "name": "ipython",
    "version": 3
   },
   "file_extension": ".py",
   "mimetype": "text/x-python",
   "name": "python",
   "nbconvert_exporter": "python",
   "pygments_lexer": "ipython3",
   "version": "3.10.12"
  },
  "orig_nbformat": 4
 },
 "nbformat": 4,
 "nbformat_minor": 2
}
