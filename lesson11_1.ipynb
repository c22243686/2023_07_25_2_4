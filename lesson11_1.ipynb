{
 "cells": [
  {
   "cell_type": "code",
   "execution_count": 2,
   "metadata": {},
   "outputs": [
    {
     "data": {
      "text/plain": [
       "[[56, 79, 56, 80, 73],\n",
       " [62, 54, 62, 74, 67],\n",
       " [64, 59, 56, 55, 84],\n",
       " [73, 80, 85, 55, 88],\n",
       " [50, 99, 84, 81, 94],\n",
       " [98, 69, 64, 71, 54],\n",
       " [60, 96, 59, 51, 89],\n",
       " [51, 81, 50, 71, 72],\n",
       " [78, 79, 61, 50, 88],\n",
       " [68, 60, 50, 57, 67],\n",
       " [79, 93, 71, 63, 82],\n",
       " [98, 87, 92, 89, 70],\n",
       " [54, 94, 65, 83, 78],\n",
       " [75, 71, 55, 96, 70],\n",
       " [93, 69, 61, 82, 59],\n",
       " [96, 98, 95, 76, 81],\n",
       " [99, 67, 93, 94, 86],\n",
       " [91, 70, 51, 63, 100],\n",
       " [56, 89, 61, 63, 78],\n",
       " [51, 95, 67, 99, 82]]"
      ]
     },
     "execution_count": 2,
     "metadata": {},
     "output_type": "execute_result"
    }
   ],
   "source": [
    "import random\n",
    "def get_score() -> list:\n",
    "    score = []\n",
    "    for i in range(5):\n",
    "        score.append(random.randint(50, 100))\n",
    "    return score\n",
    "\n",
    "nums = int(input(\"請輸入學生數:\"))\n",
    "students = []\n",
    "for _ in range(nums):\n",
    "    scores = get_score()\n",
    "    students.append(scores)\n",
    "students"
   ]
  }
 ],
 "metadata": {
  "kernelspec": {
   "display_name": "Python 3",
   "language": "python",
   "name": "python3"
  },
  "language_info": {
   "codemirror_mode": {
    "name": "ipython",
    "version": 3
   },
   "file_extension": ".py",
   "mimetype": "text/x-python",
   "name": "python",
   "nbconvert_exporter": "python",
   "pygments_lexer": "ipython3",
   "version": "3.10.12"
  },
  "orig_nbformat": 4
 },
 "nbformat": 4,
 "nbformat_minor": 2
}
