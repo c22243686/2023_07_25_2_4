{
 "cells": [
  {
   "cell_type": "code",
   "execution_count": 1,
   "metadata": {},
   "outputs": [
    {
     "data": {
      "text/plain": [
       "[['李佳彥', 84, 66, 63, 68, 93],\n",
       " ['杜明延', 97, 78, 63, 85, 66],\n",
       " ['林康亮', 75, 65, 90, 60, 50],\n",
       " ['張嘉韋', 91, 52, 96, 87, 88],\n",
       " ['梁柏宇', 66, 75, 92, 70, 91],\n",
       " ['沈心利', 63, 51, 86, 75, 51],\n",
       " ['趙家豪', 79, 54, 66, 94, 86],\n",
       " ['戴萱能', 91, 69, 94, 69, 83],\n",
       " ['余丞苓', 66, 52, 74, 62, 76],\n",
       " ['楊少亮', 89, 77, 60, 55, 65],\n",
       " ['蘇凡菁', 97, 78, 87, 54, 57],\n",
       " ['楊韋廷', 61, 97, 60, 83, 87],\n",
       " ['王雅慧', 95, 82, 67, 73, 81],\n",
       " ['鄭佳玲', 75, 92, 89, 83, 77],\n",
       " ['張軒宸', 87, 98, 86, 54, 89],\n",
       " ['林佳人', 90, 79, 98, 85, 92],\n",
       " ['陳志偉', 80, 79, 83, 70, 71],\n",
       " ['李湘婷', 65, 78, 57, 89, 82],\n",
       " ['陳信念', 52, 63, 60, 89, 87],\n",
       " ['胡淑貞', 52, 95, 86, 85, 99]]"
      ]
     },
     "execution_count": 1,
     "metadata": {},
     "output_type": "execute_result"
    }
   ],
   "source": [
    "import random\n",
    "def get_score() -> list:\n",
    "    score = []\n",
    "    for i in range(5):\n",
    "        score.append(random.randint(50, 100))\n",
    "    return score\n",
    "\n",
    "nums_int = int(input(\"請輸入學生數:\"))\n",
    "#取得nums_int個姓名\n",
    "with open('names.txt',encoding='utf-8',newline='') as file:\n",
    "    names_str = file.read()\n",
    "    all_names_list = names_str.split(sep=\"\\n\")\n",
    "    names_list = random.choices(all_names_list,k=nums_int) #取出一定數量的姓名\n",
    "\n",
    "\n",
    "students = []\n",
    "for i in range(nums_int):\n",
    "    scores = get_score()\n",
    "    new_list = [names_list[i]] + scores\n",
    "    students.append(new_list)\n",
    "students"
   ]
  }
 ],
 "metadata": {
  "kernelspec": {
   "display_name": "Python 3",
   "language": "python",
   "name": "python3"
  },
  "language_info": {
   "codemirror_mode": {
    "name": "ipython",
    "version": 3
   },
   "file_extension": ".py",
   "mimetype": "text/x-python",
   "name": "python",
   "nbconvert_exporter": "python",
   "pygments_lexer": "ipython3",
   "version": "3.10.13"
  },
  "orig_nbformat": 4
 },
 "nbformat": 4,
 "nbformat_minor": 2
}
