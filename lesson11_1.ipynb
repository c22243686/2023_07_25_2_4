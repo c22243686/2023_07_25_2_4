{
 "cells": [
  {
   "cell_type": "code",
   "execution_count": 2,
   "metadata": {},
   "outputs": [
    {
     "data": {
      "text/plain": [
       "[['楊又源', 50, 84, 69, 81, 61],\n",
       " ['王怡君', 51, 56, 66, 97, 100],\n",
       " ['王德城', 77, 95, 59, 54, 84],\n",
       " ['孫宜珊', 64, 92, 62, 91, 53],\n",
       " ['蔡偉成', 79, 55, 76, 88, 83],\n",
       " ['陳孝邦', 94, 95, 100, 85, 52],\n",
       " ['孫宜珊', 68, 67, 70, 60, 91],\n",
       " ['黃雅慧', 67, 74, 86, 99, 87],\n",
       " ['黃彥孝', 54, 97, 54, 91, 64],\n",
       " ['李慶亮', 50, 50, 89, 91, 86],\n",
       " ['黃彥孝', 93, 91, 65, 85, 78],\n",
       " ['陳冠竹', 79, 85, 78, 74, 55],\n",
       " ['游一鈺', 88, 50, 62, 85, 79],\n",
       " ['詹忠光', 92, 93, 99, 71, 96],\n",
       " ['鄭孟芳', 58, 74, 85, 88, 50],\n",
       " ['李淑芳', 87, 77, 84, 74, 50],\n",
       " ['蔡世馨', 53, 68, 91, 67, 88],\n",
       " ['蘇婷婷', 53, 84, 74, 58, 94],\n",
       " ['楊少亮', 71, 94, 95, 70, 56],\n",
       " ['翁羽威', 69, 54, 78, 92, 73]]"
      ]
     },
     "execution_count": 2,
     "metadata": {},
     "output_type": "execute_result"
    }
   ],
   "source": [
    "import random\n",
    "def get_score() -> list:\n",
    "    score = []\n",
    "    for i in range(5):\n",
    "        score.append(random.randint(50, 100))\n",
    "    return score\n",
    "\n",
    "nums_int = int(input(\"請輸入學生數:\"))\n",
    "#取得nums_int個姓名\n",
    "with open('names.txt',encoding='utf-8',newline='') as file:\n",
    "    names_str = file.read()\n",
    "    all_names_list = names_str.split(sep=\"\\n\")\n",
    "    names_list = random.choices(all_names_list,k=nums_int) #取出一定數量的姓名\n",
    "\n",
    "\n",
    "students = []\n",
    "for i in range(nums_int):\n",
    "    scores = get_score()\n",
    "    new_list = [names_list[i]] + scores\n",
    "    students.append(new_list)\n",
    "students"
   ]
  }
 ],
 "metadata": {
  "kernelspec": {
   "display_name": "Python 3",
   "language": "python",
   "name": "python3"
  },
  "language_info": {
   "codemirror_mode": {
    "name": "ipython",
    "version": 3
   },
   "file_extension": ".py",
   "mimetype": "text/x-python",
   "name": "python",
   "nbconvert_exporter": "python",
   "pygments_lexer": "ipython3",
   "version": "3.10.12"
  },
  "orig_nbformat": 4
 },
 "nbformat": 4,
 "nbformat_minor": 2
}
