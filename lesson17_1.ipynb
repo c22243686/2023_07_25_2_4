{
 "cells": [
  {
   "cell_type": "code",
   "execution_count": 1,
   "metadata": {},
   "outputs": [
    {
     "data": {
      "text/html": [
       "<div>\n",
       "<style scoped>\n",
       "    .dataframe tbody tr th:only-of-type {\n",
       "        vertical-align: middle;\n",
       "    }\n",
       "\n",
       "    .dataframe tbody tr th {\n",
       "        vertical-align: top;\n",
       "    }\n",
       "\n",
       "    .dataframe thead th {\n",
       "        text-align: right;\n",
       "    }\n",
       "</style>\n",
       "<table border=\"1\" class=\"dataframe\">\n",
       "  <thead>\n",
       "    <tr style=\"text-align: right;\">\n",
       "      <th></th>\n",
       "      <th>字串</th>\n",
       "      <th>整數</th>\n",
       "      <th>浮點數</th>\n",
       "    </tr>\n",
       "  </thead>\n",
       "  <tbody>\n",
       "    <tr>\n",
       "      <th>0</th>\n",
       "      <td>台北</td>\n",
       "      <td>1000</td>\n",
       "      <td>3.258</td>\n",
       "    </tr>\n",
       "    <tr>\n",
       "      <th>1</th>\n",
       "      <td>台中</td>\n",
       "      <td>3000</td>\n",
       "      <td>7.396</td>\n",
       "    </tr>\n",
       "  </tbody>\n",
       "</table>\n",
       "</div>"
      ],
      "text/plain": [
       "   字串    整數    浮點數\n",
       "0  台北  1000  3.258\n",
       "1  台中  3000  7.396"
      ]
     },
     "metadata": {},
     "output_type": "display_data"
    }
   ],
   "source": [
    "import pandas as pd\n",
    "\n",
    "\n",
    "import pandas as pd\n",
    "data = {\"字串\":[\"台北\", \"台中\"],\n",
    "        \"整數\":[1000, 3000],\n",
    "        \"浮點數\":[3.258, 7.396]}\n",
    "\n",
    "df = pd.DataFrame(data)\n",
    "display(df)\n"
   ]
  },
  {
   "cell_type": "code",
   "execution_count": 5,
   "metadata": {},
   "outputs": [
    {
     "data": {
      "text/html": [
       "<style type=\"text/css\">\n",
       "</style>\n",
       "<table id=\"T_8cb1f\">\n",
       "  <thead>\n",
       "    <tr>\n",
       "      <th class=\"blank level0\" >&nbsp;</th>\n",
       "      <th id=\"T_8cb1f_level0_col0\" class=\"col_heading level0 col0\" >字串</th>\n",
       "      <th id=\"T_8cb1f_level0_col1\" class=\"col_heading level0 col1\" >整數</th>\n",
       "      <th id=\"T_8cb1f_level0_col2\" class=\"col_heading level0 col2\" >浮點數</th>\n",
       "    </tr>\n",
       "  </thead>\n",
       "  <tbody>\n",
       "    <tr>\n",
       "      <th id=\"T_8cb1f_level0_row0\" class=\"row_heading level0 row0\" >列1</th>\n",
       "      <td id=\"T_8cb1f_row0_col0\" class=\"data row0 col0\" >台北</td>\n",
       "      <td id=\"T_8cb1f_row0_col1\" class=\"data row0 col1\" >1,000</td>\n",
       "      <td id=\"T_8cb1f_row0_col2\" class=\"data row0 col2\" >3.26</td>\n",
       "    </tr>\n",
       "    <tr>\n",
       "      <th id=\"T_8cb1f_level0_row1\" class=\"row_heading level0 row1\" >列2</th>\n",
       "      <td id=\"T_8cb1f_row1_col0\" class=\"data row1 col0\" >台中</td>\n",
       "      <td id=\"T_8cb1f_row1_col1\" class=\"data row1 col1\" >3,000</td>\n",
       "      <td id=\"T_8cb1f_row1_col2\" class=\"data row1 col2\" >7.40</td>\n",
       "    </tr>\n",
       "  </tbody>\n",
       "</table>\n"
      ],
      "text/plain": [
       "<pandas.io.formats.style.Styler at 0x7fdb63a03610>"
      ]
     },
     "execution_count": 5,
     "metadata": {},
     "output_type": "execute_result"
    }
   ],
   "source": [
    "#視覺美化資料表\n",
    "#pip install jinja2\n",
    "df.style\\\n",
    ".format(precision=2,thousands=\",\",decimal=\".\")\\\n",
    ".relabel_index([\"列1\",\"列2\"])"
   ]
  },
  {
   "cell_type": "code",
   "execution_count": 6,
   "metadata": {},
   "outputs": [
    {
     "data": {
      "text/html": [
       "<div>\n",
       "<style scoped>\n",
       "    .dataframe tbody tr th:only-of-type {\n",
       "        vertical-align: middle;\n",
       "    }\n",
       "\n",
       "    .dataframe tbody tr th {\n",
       "        vertical-align: top;\n",
       "    }\n",
       "\n",
       "    .dataframe thead th {\n",
       "        text-align: right;\n",
       "    }\n",
       "</style>\n",
       "<table border=\"1\" class=\"dataframe\">\n",
       "  <thead>\n",
       "    <tr style=\"text-align: right;\">\n",
       "      <th></th>\n",
       "      <th>台北</th>\n",
       "      <th>台中</th>\n",
       "    </tr>\n",
       "  </thead>\n",
       "  <tbody>\n",
       "    <tr>\n",
       "      <th>2023-09-01</th>\n",
       "      <td>4.214827</td>\n",
       "      <td>3.984825</td>\n",
       "    </tr>\n",
       "    <tr>\n",
       "      <th>2023-09-02</th>\n",
       "      <td>1.853965</td>\n",
       "      <td>0.226653</td>\n",
       "    </tr>\n",
       "    <tr>\n",
       "      <th>2023-09-03</th>\n",
       "      <td>4.408428</td>\n",
       "      <td>1.053370</td>\n",
       "    </tr>\n",
       "    <tr>\n",
       "      <th>2023-09-04</th>\n",
       "      <td>1.997651</td>\n",
       "      <td>2.838730</td>\n",
       "    </tr>\n",
       "    <tr>\n",
       "      <th>2023-09-05</th>\n",
       "      <td>1.839882</td>\n",
       "      <td>4.432234</td>\n",
       "    </tr>\n",
       "    <tr>\n",
       "      <th>2023-09-06</th>\n",
       "      <td>1.864555</td>\n",
       "      <td>4.199360</td>\n",
       "    </tr>\n",
       "    <tr>\n",
       "      <th>2023-09-07</th>\n",
       "      <td>0.781834</td>\n",
       "      <td>0.455665</td>\n",
       "    </tr>\n",
       "    <tr>\n",
       "      <th>2023-09-08</th>\n",
       "      <td>4.801278</td>\n",
       "      <td>0.669143</td>\n",
       "    </tr>\n",
       "    <tr>\n",
       "      <th>2023-09-09</th>\n",
       "      <td>4.931486</td>\n",
       "      <td>2.659139</td>\n",
       "    </tr>\n",
       "    <tr>\n",
       "      <th>2023-09-10</th>\n",
       "      <td>3.475978</td>\n",
       "      <td>0.635881</td>\n",
       "    </tr>\n",
       "  </tbody>\n",
       "</table>\n",
       "</div>"
      ],
      "text/plain": [
       "                  台北        台中\n",
       "2023-09-01  4.214827  3.984825\n",
       "2023-09-02  1.853965  0.226653\n",
       "2023-09-03  4.408428  1.053370\n",
       "2023-09-04  1.997651  2.838730\n",
       "2023-09-05  1.839882  4.432234\n",
       "2023-09-06  1.864555  4.199360\n",
       "2023-09-07  0.781834  0.455665\n",
       "2023-09-08  4.801278  0.669143\n",
       "2023-09-09  4.931486  2.659139\n",
       "2023-09-10  3.475978  0.635881"
      ]
     },
     "execution_count": 6,
     "metadata": {},
     "output_type": "execute_result"
    }
   ],
   "source": [
    "import numpy as np\n",
    "data = np.random.rand(10,2) * 5\n",
    "df = pd.DataFrame(data,\n",
    "                  index = pd.date_range(start=\"2023-09-01\",periods=10),\n",
    "                  columns=[\"台北\",\"台中\"]\n",
    "                  )\n",
    "df"
   ]
  }
 ],
 "metadata": {
  "kernelspec": {
   "display_name": "Python 3",
   "language": "python",
   "name": "python3"
  },
  "language_info": {
   "codemirror_mode": {
    "name": "ipython",
    "version": 3
   },
   "file_extension": ".py",
   "mimetype": "text/x-python",
   "name": "python",
   "nbconvert_exporter": "python",
   "pygments_lexer": "ipython3",
   "version": "3.10.13"
  }
 },
 "nbformat": 4,
 "nbformat_minor": 2
}
