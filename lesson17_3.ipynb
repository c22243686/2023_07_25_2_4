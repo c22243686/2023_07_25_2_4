{
 "cells": [
  {
   "cell_type": "code",
   "execution_count": 8,
   "metadata": {},
   "outputs": [],
   "source": [
    "import pandas as pd\n",
    "df = pd.read_csv('學生成績.csv')\n",
    "#dataFrame的subscript\n",
    "name_s = df[\"姓名\"]\n"
   ]
  },
  {
   "cell_type": "code",
   "execution_count": 3,
   "metadata": {},
   "outputs": [
    {
     "data": {
      "text/plain": [
       "0     蘇凡菁\n",
       "1     謝貞妃\n",
       "2     林向鈺\n",
       "3     吳欣書\n",
       "4     王孝純\n",
       "5     羅佩樺\n",
       "6     張雅芬\n",
       "7     郭淑枝\n",
       "8     黃佩玲\n",
       "9     唐雪豪\n",
       "10    黃詩妃\n",
       "11    姜琬婷\n",
       "12    盧必妍\n",
       "13    李蓉瑞\n",
       "14    林詠斌\n",
       "15    陳俊憲\n",
       "16    劉雯芬\n",
       "17    唐雪豪\n",
       "18    張彥博\n",
       "19    昌嘉洋\n",
       "20    周怡啟\n",
       "21    孫火清\n",
       "22    聶心怡\n",
       "23    程玫靖\n",
       "24    馬彥文\n",
       "25    王梅劭\n",
       "26    王良斌\n",
       "27    林佳光\n",
       "28    沈心利\n",
       "29    王雅慧\n",
       "Name: 姓名, dtype: object"
      ]
     },
     "metadata": {},
     "output_type": "display_data"
    },
    {
     "data": {
      "text/plain": [
       "'蘇凡菁'"
      ]
     },
     "metadata": {},
     "output_type": "display_data"
    },
    {
     "name": "stdout",
     "output_type": "stream",
     "text": [
      "===========\n"
     ]
    },
    {
     "data": {
      "text/plain": [
       "0    蘇凡菁\n",
       "1    謝貞妃\n",
       "2    林向鈺\n",
       "Name: 姓名, dtype: object"
      ]
     },
     "metadata": {},
     "output_type": "display_data"
    },
    {
     "name": "stdout",
     "output_type": "stream",
     "text": [
      "===========\n"
     ]
    },
    {
     "data": {
      "text/plain": [
       "27    林佳光\n",
       "28    沈心利\n",
       "29    王雅慧\n",
       "Name: 姓名, dtype: object"
      ]
     },
     "metadata": {},
     "output_type": "display_data"
    },
    {
     "name": "stdout",
     "output_type": "stream",
     "text": [
      "===========\n"
     ]
    },
    {
     "data": {
      "text/plain": [
       "0    蘇凡菁\n",
       "5    羅佩樺\n",
       "8    黃佩玲\n",
       "Name: 姓名, dtype: object"
      ]
     },
     "metadata": {},
     "output_type": "display_data"
    }
   ],
   "source": [
    "#Series的subscript\n",
    "display(name_s)\n",
    "display(name_s[0])\n",
    "print(\"===========\")\n",
    "display(name_s[:3])\n",
    "print(\"===========\")\n",
    "display(name_s[-3:])\n",
    "print(\"===========\")\n",
    "display(name_s[[0, 5, 8]])"
   ]
  }
 ],
 "metadata": {
  "kernelspec": {
   "display_name": "Python 3",
   "language": "python",
   "name": "python3"
  },
  "language_info": {
   "codemirror_mode": {
    "name": "ipython",
    "version": 3
   },
   "file_extension": ".py",
   "mimetype": "text/x-python",
   "name": "python",
   "nbconvert_exporter": "python",
   "pygments_lexer": "ipython3",
   "version": "3.10.13"
  }
 },
 "nbformat": 4,
 "nbformat_minor": 2
}
