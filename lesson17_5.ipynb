{
 "cells": [
  {
   "cell_type": "code",
   "execution_count": 1,
   "metadata": {},
   "outputs": [
    {
     "data": {
      "text/plain": [
       "0     57\n",
       "1     66\n",
       "2     89\n",
       "3     74\n",
       "4     58\n",
       "5     51\n",
       "6     61\n",
       "7     74\n",
       "8     63\n",
       "9     88\n",
       "10    51\n",
       "11    75\n",
       "12    57\n",
       "13    88\n",
       "14    50\n",
       "15    93\n",
       "16    66\n",
       "17    55\n",
       "18    57\n",
       "19    54\n",
       "20    94\n",
       "21    68\n",
       "22    58\n",
       "23    50\n",
       "24    88\n",
       "25    55\n",
       "26    80\n",
       "27    85\n",
       "28    83\n",
       "29    70\n",
       "Name: 國文, dtype: int64"
      ]
     },
     "execution_count": 1,
     "metadata": {},
     "output_type": "execute_result"
    }
   ],
   "source": [
    "import pandas as pd\n",
    "df = pd.read_csv('學生成績.csv')\n",
    "\n",
    "#使用subscript搜尋Series value\n",
    "chinese_s = df[\"國文\"]\n",
    "chinese_s"
   ]
  },
  {
   "cell_type": "code",
   "execution_count": 2,
   "metadata": {},
   "outputs": [
    {
     "data": {
      "text/plain": [
       "1     66\n",
       "2     89\n",
       "3     74\n",
       "6     61\n",
       "7     74\n",
       "8     63\n",
       "9     88\n",
       "11    75\n",
       "13    88\n",
       "15    93\n",
       "16    66\n",
       "20    94\n",
       "21    68\n",
       "24    88\n",
       "26    80\n",
       "27    85\n",
       "28    83\n",
       "29    70\n",
       "Name: 國文, dtype: int64"
      ]
     },
     "execution_count": 2,
     "metadata": {},
     "output_type": "execute_result"
    }
   ],
   "source": [
    "#國文及格的\n",
    "chinese_s[chinese_s >= 60]\n",
    "\n"
   ]
  },
  {
   "cell_type": "code",
   "execution_count": 3,
   "metadata": {},
   "outputs": [
    {
     "data": {
      "text/plain": [
       "0     57\n",
       "2     51\n",
       "3     55\n",
       "7     58\n",
       "12    54\n",
       "21    50\n",
       "Name: 數學, dtype: int64"
      ]
     },
     "execution_count": 3,
     "metadata": {},
     "output_type": "execute_result"
    }
   ],
   "source": [
    "#數學及格的\n",
    "math_s = df[\"數學\"]\n",
    "math_s[math_s < 60]"
   ]
  }
 ],
 "metadata": {
  "kernelspec": {
   "display_name": "Python 3",
   "language": "python",
   "name": "python3"
  },
  "language_info": {
   "codemirror_mode": {
    "name": "ipython",
    "version": 3
   },
   "file_extension": ".py",
   "mimetype": "text/x-python",
   "name": "python",
   "nbconvert_exporter": "python",
   "pygments_lexer": "ipython3",
   "version": "3.10.13"
  }
 },
 "nbformat": 4,
 "nbformat_minor": 2
}
