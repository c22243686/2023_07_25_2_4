{
 "cells": [
  {
   "cell_type": "code",
   "execution_count": 1,
   "metadata": {},
   "outputs": [
    {
     "name": "stdout",
     "output_type": "stream",
     "text": [
      "下載成功\n"
     ]
    }
   ],
   "source": [
    "import requests\n",
    "\n",
    "url = 'https://opendata.cwb.gov.tw/fileapi/v1/opendataapi/F-C0032-001?Authorization=rdec-key-123-45678-011121314&format=JSON'\n",
    "r = requests.get(url)\n",
    "if r.status_code == 200:\n",
    "    print(\"下載成功\")"
   ]
  },
  {
   "cell_type": "code",
   "execution_count": 2,
   "metadata": {},
   "outputs": [
    {
     "ename": "KeyError",
     "evalue": "'cwbopendata'",
     "output_type": "error",
     "traceback": [
      "\u001b[0;31m---------------------------------------------------------------------------\u001b[0m",
      "\u001b[0;31mKeyError\u001b[0m                                  Traceback (most recent call last)",
      "\u001b[1;32m/workspaces/2023_07_25_2_4/lesson16_4.ipynb 儲存格 2\u001b[0m line \u001b[0;36m2\n\u001b[1;32m      <a href='vscode-notebook-cell://codespaces%2Breimagined-adventure-q7p9vrvvjq92666j/workspaces/2023_07_25_2_4/lesson16_4.ipynb#W1sdnNjb2RlLXJlbW90ZQ%3D%3D?line=0'>1</a>\u001b[0m all_json \u001b[39m=\u001b[39m r\u001b[39m.\u001b[39mjson()\n\u001b[0;32m----> <a href='vscode-notebook-cell://codespaces%2Breimagined-adventure-q7p9vrvvjq92666j/workspaces/2023_07_25_2_4/lesson16_4.ipynb#W1sdnNjb2RlLXJlbW90ZQ%3D%3D?line=1'>2</a>\u001b[0m locations \u001b[39m=\u001b[39m all_json[\u001b[39m'\u001b[39;49m\u001b[39mcwbopendata\u001b[39;49m\u001b[39m'\u001b[39;49m][\u001b[39m'\u001b[39m\u001b[39mdataset\u001b[39m\u001b[39m'\u001b[39m][\u001b[39m'\u001b[39m\u001b[39mlocation\u001b[39m\u001b[39m'\u001b[39m]\n\u001b[1;32m      <a href='vscode-notebook-cell://codespaces%2Breimagined-adventure-q7p9vrvvjq92666j/workspaces/2023_07_25_2_4/lesson16_4.ipynb#W1sdnNjb2RlLXJlbW90ZQ%3D%3D?line=2'>3</a>\u001b[0m weather_list \u001b[39m=\u001b[39m []\n\u001b[1;32m      <a href='vscode-notebook-cell://codespaces%2Breimagined-adventure-q7p9vrvvjq92666j/workspaces/2023_07_25_2_4/lesson16_4.ipynb#W1sdnNjb2RlLXJlbW90ZQ%3D%3D?line=3'>4</a>\u001b[0m \u001b[39mfor\u001b[39;00m item \u001b[39min\u001b[39;00m locations:\n",
      "\u001b[0;31mKeyError\u001b[0m: 'cwbopendata'"
     ]
    }
   ],
   "source": [
    "all_json = r.json()\n",
    "locations = all_json['cwbopendata']['dataset']['location']\n",
    "weather_list = []\n",
    "for item in locations:\n",
    "    city_item = {}\n",
    "    city_item['城市'] = item['locationName']\n",
    "    city_item['啟始時間'] = item['weatherElement'][1]['time'][0]['startTime']\n",
    "    city_item['結束時間'] = item['weatherElement'][1]['time'][0]['endTime']\n",
    "    city_item['最高溫度'] = float(item['weatherElement'][1]['time'][0]['parameter']['parameterName'])\n",
    "    city_item['最低溫度'] = float(item['weatherElement'][2]['time'][0]['parameter']['parameterName'])\n",
    "    city_item['感覺'] = item['weatherElement'][3]['time'][0]['parameter']['parameterName']\n",
    "    weather_list.append(city_item)\n",
    "weather_list"
   ]
  }
 ],
 "metadata": {
  "kernelspec": {
   "display_name": "Python 3",
   "language": "python",
   "name": "python3"
  },
  "language_info": {
   "codemirror_mode": {
    "name": "ipython",
    "version": 3
   },
   "file_extension": ".py",
   "mimetype": "text/x-python",
   "name": "python",
   "nbconvert_exporter": "python",
   "pygments_lexer": "ipython3",
   "version": "3.10.13"
  }
 },
 "nbformat": 4,
 "nbformat_minor": 2
}
