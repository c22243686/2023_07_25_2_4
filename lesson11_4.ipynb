{
 "cells": [
  {
   "cell_type": "code",
   "execution_count": 5,
   "metadata": {},
   "outputs": [
    {
     "data": {
      "text/plain": [
       "[['楊偉翔', '59', '55', '70', '69', '65'],\n",
       " ['蔡偉成', '93', '74', '83', '52', '58'],\n",
       " ['謝佳穎', '87', '73', '96', '66', '67'],\n",
       " ['陳冠霞', '71', '66', '53', '57', '62'],\n",
       " ['李政成', '64', '94', '70', '50', '99'],\n",
       " ['謝水儒', '77', '75', '53', '81', '95'],\n",
       " ['林淑安', '70', '78', '88', '65', '99'],\n",
       " ['陳文賢', '74', '53', '80', '52', '59'],\n",
       " ['郭淑真', '85', '71', '95', '71', '93'],\n",
       " ['李美洋', '72', '99', '85', '62', '53'],\n",
       " ['蔡孟泉', '90', '56', '83', '92', '66'],\n",
       " ['彭茹靖', '61', '83', '82', '53', '78'],\n",
       " ['黃佩芬', '90', '95', '94', '61', '82'],\n",
       " ['黃善迪', '98', '98', '79', '95', '64'],\n",
       " ['蔡欣汝', '86', '88', '93', '84', '99']]"
      ]
     },
     "metadata": {},
     "output_type": "display_data"
    }
   ],
   "source": [
    "#讀取csv檔成為2維的list\n",
    "import csv\n",
    "with open('2r.csv',encoding='utf-8',newline='') as file:\n",
    "    csv_reader = csv.reader(file)\n",
    "    next(csv_reader)\n",
    "    #print(type(csv_reader))\n",
    "    csv_list = list(csv_reader)\n",
    "display(csv_list)"
   ]
  },
  {
   "cell_type": "code",
   "execution_count": 8,
   "metadata": {},
   "outputs": [
    {
     "name": "stdout",
     "output_type": "stream",
     "text": [
      "['蔡偉成', '93', '74', '83', '52', '58']\n"
     ]
    }
   ],
   "source": [
    "for student in csv_list:\n",
    "    if student[0] == '蔡偉成':\n",
    "        print(student)\n",
    "        break"
   ]
  }
 ],
 "metadata": {
  "kernelspec": {
   "display_name": "Python 3",
   "language": "python",
   "name": "python3"
  },
  "language_info": {
   "codemirror_mode": {
    "name": "ipython",
    "version": 3
   },
   "file_extension": ".py",
   "mimetype": "text/x-python",
   "name": "python",
   "nbconvert_exporter": "python",
   "pygments_lexer": "ipython3",
   "version": "3.10.12"
  },
  "orig_nbformat": 4
 },
 "nbformat": 4,
 "nbformat_minor": 2
}
