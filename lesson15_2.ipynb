{
 "cells": [
  {
   "cell_type": "code",
   "execution_count": 3,
   "metadata": {},
   "outputs": [
    {
     "data": {
      "text/plain": [
       "[3, 7, 11, 15, 19]"
      ]
     },
     "execution_count": 3,
     "metadata": {},
     "output_type": "execute_result"
    }
   ],
   "source": [
    "#建立list\n",
    "a = [1, 3, 5, 7, 9]\n",
    "a * 2\n",
    "\n",
    "b = [2, 4, 6, 8 ,10]\n",
    "a + b\n",
    "\n",
    "result = []\n",
    "for i in range(5):\n",
    "    result.append(a[i] + b[i])\n",
    "\n",
    "result"
   ]
  },
  {
   "cell_type": "code",
   "execution_count": 4,
   "metadata": {},
   "outputs": [
    {
     "data": {
      "text/plain": [
       "array([ 3,  7, 11, 15, 19])"
      ]
     },
     "execution_count": 4,
     "metadata": {},
     "output_type": "execute_result"
    }
   ],
   "source": [
    "import numpy as np\n",
    "\n",
    "#透過list建立ndArray\n",
    "\n",
    "a_array = np.array([1, 3, 5, 7, 9])\n",
    "a_array * 2\n",
    "\n",
    "b_array = np.array([2, 4, 6, 8 ,10])\n",
    "\n",
    "a_array + b_array"
   ]
  },
  {
   "cell_type": "code",
   "execution_count": 5,
   "metadata": {},
   "outputs": [
    {
     "data": {
      "text/plain": [
       "[97, 93, 86, 83, 54]"
      ]
     },
     "execution_count": 5,
     "metadata": {},
     "output_type": "execute_result"
    }
   ],
   "source": [
    "#使用python建立5個亂數元素的list\n",
    "import random\n",
    "\n",
    "#list comprehension\n",
    "[random.randint(50,100) for _ in range(5)]"
   ]
  },
  {
   "cell_type": "code",
   "execution_count": 6,
   "metadata": {},
   "outputs": [
    {
     "data": {
      "text/plain": [
       "array([62, 57, 91, 70, 66])"
      ]
     },
     "execution_count": 6,
     "metadata": {},
     "output_type": "execute_result"
    }
   ],
   "source": [
    "#使用numpy random 建立亂數\n",
    "import numpy as np\n",
    "np.random.randint(50,high=100,size=5)"
   ]
  },
  {
   "cell_type": "code",
   "execution_count": 7,
   "metadata": {},
   "outputs": [
    {
     "data": {
      "text/plain": [
       "array([[72, 67, 50, 72, 62],\n",
       "       [79, 95, 55, 85, 72],\n",
       "       [76, 54, 69, 89, 79],\n",
       "       [92, 54, 83, 58, 99],\n",
       "       [68, 50, 83, 88, 97],\n",
       "       [87, 58, 87, 54, 95],\n",
       "       [62, 60, 52, 87, 68],\n",
       "       [53, 91, 53, 97, 57],\n",
       "       [79, 63, 62, 63, 85],\n",
       "       [89, 71, 51, 64, 89],\n",
       "       [99, 52, 74, 53, 74],\n",
       "       [93, 92, 84, 68, 85],\n",
       "       [75, 99, 75, 97, 97],\n",
       "       [74, 82, 98, 92, 63],\n",
       "       [65, 85, 73, 76, 84],\n",
       "       [95, 67, 58, 83, 68],\n",
       "       [87, 59, 52, 90, 80],\n",
       "       [53, 54, 71, 89, 92],\n",
       "       [84, 71, 72, 81, 67],\n",
       "       [66, 63, 67, 63, 90],\n",
       "       [72, 78, 59, 72, 85],\n",
       "       [95, 75, 97, 67, 61],\n",
       "       [89, 83, 98, 85, 57],\n",
       "       [51, 56, 92, 64, 93],\n",
       "       [52, 88, 87, 71, 97],\n",
       "       [75, 58, 98, 99, 67],\n",
       "       [50, 77, 65, 70, 86],\n",
       "       [74, 83, 62, 50, 54],\n",
       "       [96, 86, 51, 63, 50],\n",
       "       [99, 86, 81, 74, 61],\n",
       "       [87, 56, 56, 75, 77],\n",
       "       [95, 68, 81, 75, 61],\n",
       "       [51, 79, 61, 81, 76],\n",
       "       [92, 58, 72, 79, 98],\n",
       "       [50, 60, 93, 70, 98],\n",
       "       [80, 69, 56, 66, 62],\n",
       "       [64, 61, 87, 61, 87],\n",
       "       [82, 62, 65, 52, 76],\n",
       "       [99, 59, 66, 68, 54],\n",
       "       [97, 84, 74, 82, 84],\n",
       "       [77, 62, 74, 96, 51],\n",
       "       [50, 78, 79, 92, 81],\n",
       "       [95, 91, 73, 81, 76],\n",
       "       [50, 55, 74, 60, 90],\n",
       "       [82, 70, 97, 57, 67],\n",
       "       [74, 69, 84, 55, 91],\n",
       "       [83, 89, 75, 86, 69],\n",
       "       [72, 59, 77, 51, 51],\n",
       "       [73, 87, 55, 58, 81],\n",
       "       [93, 58, 64, 69, 58]])"
      ]
     },
     "execution_count": 7,
     "metadata": {},
     "output_type": "execute_result"
    }
   ],
   "source": [
    "np.random.randint(50,high=100,size=(50, 5))"
   ]
  }
 ],
 "metadata": {
  "kernelspec": {
   "display_name": "Python 3",
   "language": "python",
   "name": "python3"
  },
  "language_info": {
   "codemirror_mode": {
    "name": "ipython",
    "version": 3
   },
   "file_extension": ".py",
   "mimetype": "text/x-python",
   "name": "python",
   "nbconvert_exporter": "python",
   "pygments_lexer": "ipython3",
   "version": "3.10.12"
  },
  "orig_nbformat": 4
 },
 "nbformat": 4,
 "nbformat_minor": 2
}
